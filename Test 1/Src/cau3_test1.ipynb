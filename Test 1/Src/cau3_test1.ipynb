{
 "cells": [
  {
   "cell_type": "code",
   "execution_count": 2,
   "id": "331fa413",
   "metadata": {},
   "outputs": [
    {
     "data": {
      "text/plain": [
       "-1"
      ]
     },
     "execution_count": 2,
     "metadata": {},
     "output_type": "execute_result"
    }
   ],
   "source": [
    "import cv2 as cv\n",
    "import numpy as np\n",
    "\n",
    "class median_filter(object):\n",
    "    \n",
    "    def __init__(self, image, kernel_size):\n",
    "\n",
    "        self.image = image\n",
    "        self.kernel_size = kernel_size\n",
    "\n",
    "        self.H = image.shape[0]\n",
    "        self.W = image.shape[1]\n",
    "\n",
    "        self.H_new = (self.H - self.kernel_size) + 1\n",
    "        self.W_new = (self.W - self.kernel_size) + 1\n",
    "\n",
    "        self.image_res = image.copy()\n",
    "\n",
    "    def calculate_median(self, img):\n",
    "        vector = img.flatten()\n",
    "        vector = sorted(vector)\n",
    "        median = int(len(vector)/ 2)\n",
    "        return vector[median]\n",
    "    \n",
    "    def preprocessing_image(self):\n",
    "        \n",
    "        for H in range(self.H):\n",
    "            H_start = H\n",
    "            H_end = H_start + self.kernel_size\n",
    "            for W in range(self.W):\n",
    "                W_start = W\n",
    "                W_end = W_start + self.kernel_size\n",
    "\n",
    "                tmp = self.image[H_start: H_end, W_start: W_end]\n",
    "                if tmp.shape[0] == self.kernel_size and tmp.shape[1] == self.kernel_size:\n",
    "                    self.image_res[H_start: H_end, W_start: W_end][int(self.kernel_size/2)][int(self.kernel_size/2)] = self.calculate_median(tmp)\n",
    "                else:\n",
    "                    break\n",
    "        return self.image_res\n",
    "    \n",
    "image = cv.imread(r\"C:\\Users\\Asus\\CPV\\mean,median,andgaussianfilters\\image_noise.jpg\", 0)\n",
    "image = cv.resize(image, (512, 512))\n",
    "\n",
    "image_median = median_filter(image, 7)\n",
    "image_median = image_median.preprocessing_image()\n",
    "\n",
    "cv.imshow(\"org\", image)\n",
    "cv.imshow(\"median\", image_median)\n",
    "cv.waitKey(0)"
   ]
  },
  {
   "cell_type": "code",
   "execution_count": null,
   "id": "bccf62d2",
   "metadata": {},
   "outputs": [],
   "source": []
  }
 ],
 "metadata": {
  "kernelspec": {
   "display_name": "Python 3 (ipykernel)",
   "language": "python",
   "name": "python3"
  },
  "language_info": {
   "codemirror_mode": {
    "name": "ipython",
    "version": 3
   },
   "file_extension": ".py",
   "mimetype": "text/x-python",
   "name": "python",
   "nbconvert_exporter": "python",
   "pygments_lexer": "ipython3",
   "version": "3.9.13"
  }
 },
 "nbformat": 4,
 "nbformat_minor": 5
}

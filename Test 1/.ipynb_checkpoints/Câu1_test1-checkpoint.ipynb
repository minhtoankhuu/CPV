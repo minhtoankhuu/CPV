{
 "cells": [
  {
   "cell_type": "code",
   "execution_count": null,
   "id": "cc1c6959",
   "metadata": {},
   "outputs": [],
   "source": [
    "import cv2 as cv\n",
    "import numpy as np\n",
    "\n",
    "\n",
    "def create_background(n, m):\n",
    "    global background\n",
    "    try:\n",
    "        n = int(n)\n",
    "        m = int(m)\n",
    "        \n",
    "        if n != 0 and n != 1:\n",
    "            print(\"Value of n in range[0,1]\")\n",
    "            return\n",
    "        if n == 1:\n",
    "            background = np.ones((m, m, 3))\n",
    "            cv.imshow('White window', background)\n",
    "            \n",
    "        else:\n",
    "            background = np.zeros((m, m, 3))\n",
    "            cv.imshow('Black window', background)\n",
    "        \n",
    "        cv.waitKey(0)\n",
    "        cv.destroyAllWindows()\n",
    "        return background\n",
    "    except ValueError:\n",
    "        \n",
    "        print(\"Values of n are interger\")\n",
    "        \n",
    "def square_show():\n",
    "    n = (input('enter n: '))\n",
    "    m = (input('enter weight and height of square: '))\n",
    "    square(n,m)\n",
    "\n",
    "    \n",
    "square_show()"
   ]
  },
  {
   "cell_type": "code",
   "execution_count": null,
   "id": "1deea4ca",
   "metadata": {},
   "outputs": [],
   "source": []
  }
 ],
 "metadata": {
  "kernelspec": {
   "display_name": "Python 3 (ipykernel)",
   "language": "python",
   "name": "python3"
  },
  "language_info": {
   "codemirror_mode": {
    "name": "ipython",
    "version": 3
   },
   "file_extension": ".py",
   "mimetype": "text/x-python",
   "name": "python",
   "nbconvert_exporter": "python",
   "pygments_lexer": "ipython3",
   "version": "3.9.13"
  }
 },
 "nbformat": 4,
 "nbformat_minor": 5
}

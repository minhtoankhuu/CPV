{
 "cells": [
  {
   "cell_type": "code",
   "execution_count": 3,
   "id": "fbc18360",
   "metadata": {},
   "outputs": [
    {
     "ename": "NameError",
     "evalue": "name 'x1' is not defined",
     "output_type": "error",
     "traceback": [
      "\u001b[1;31m---------------------------------------------------------------------------\u001b[0m",
      "\u001b[1;31mNameError\u001b[0m                                 Traceback (most recent call last)",
      "Cell \u001b[1;32mIn[3], line 7\u001b[0m\n\u001b[0;32m      4\u001b[0m check_pt1 \u001b[38;5;241m=\u001b[39m \u001b[38;5;28;01mFalse\u001b[39;00m\n\u001b[0;32m      5\u001b[0m check_pt2 \u001b[38;5;241m=\u001b[39m \u001b[38;5;28;01mFalse\u001b[39;00m\n\u001b[1;32m----> 7\u001b[0m \u001b[43mx1\u001b[49m, y1, x2, y2\n\u001b[0;32m      8\u001b[0m background \u001b[38;5;241m=\u001b[39m np\u001b[38;5;241m.\u001b[39mzeros((\u001b[38;5;241m455\u001b[39m, \u001b[38;5;241m455\u001b[39m, \u001b[38;5;241m3\u001b[39m))\n\u001b[0;32m     10\u001b[0m \u001b[38;5;28;01mdef\u001b[39;00m \u001b[38;5;21mdraw_line\u001b[39m(background\u001b[38;5;241m=\u001b[39mbackground):\n",
      "\u001b[1;31mNameError\u001b[0m: name 'x1' is not defined"
     ]
    }
   ],
   "source": [
    "import cv2 as cv\n",
    "import numpy as np\n",
    "\n",
    "check_point1 = False\n",
    "check_point2 = False\n",
    "\n",
    "x1, y1, x2, y2 = -1, -1, -1, -1\n",
    "background = np.zeros((455, 455, 3))\n",
    "check_draw = False\n",
    "def draw_line(background=background, radius=100):\n",
    "    def draw_a_line(event, x, y, flags, param):\n",
    "        global check_point1, check_point2, check_draw, x1, y1, x2, y2\n",
    "        if event == cv.EVENT_LBUTTONDOWN and check_point1 == False and check_point2 == False and check_draw == False:\n",
    "            x1, y1 = x, y\n",
    "            check_point1 = True\n",
    "        elif event == cv.EVENT_LBUTTONDOWN and check_point1 == True and check_point2 == False and check_draw == False:\n",
    "            x2, y2 = x, y\n",
    "            check_point2 = True\n",
    "        elif event == cv.EVENT_MOUSEMOVE and check_point1 == False and check_point2 == False and check_draw == False:\n",
    "            print(\"founding x1, y1\")\n",
    "        elif event == cv.EVENT_MOUSEMOVE and check_point1 == True and check_point2 == False and check_draw == False:\n",
    "            print(\"founding x2, y2\")\n",
    "        elif event == cv.EVENT_MOUSEMOVE and check_point1 == True and check_point2 == True and check_draw == True:\n",
    "            print(\"Done\")\n",
    "        elif event == cv.EVENT_LBUTTONUP and check_point1 == True and check_point2 == True and check_draw == False:\n",
    "            cv.line(background, (x1, y1), (x2, y2), (255, 0, 0), 3)\n",
    "            check_draw = True\n",
    "\n",
    "    cv.namedWindow(\"Draw line\")\n",
    "    cv.setMouseCallback(\"Draw line\", draw_a_line)\n",
    "    while True:\n",
    "        cv.imshow(\"Draw line\", background)\n",
    "        if cv.waitKey(1) & 0xff == ord('d'):\n",
    "            break\n",
    "\n",
    "    cv.destroyAllWindows()\n",
    "    print(\"Done - Task\")\n",
    "\n",
    "\n",
    "draw_line()"
   ]
  },
  {
   "cell_type": "code",
   "execution_count": null,
   "id": "b0a954e7",
   "metadata": {},
   "outputs": [],
   "source": []
  }
 ],
 "metadata": {
  "kernelspec": {
   "display_name": "Python 3 (ipykernel)",
   "language": "python",
   "name": "python3"
  },
  "language_info": {
   "codemirror_mode": {
    "name": "ipython",
    "version": 3
   },
   "file_extension": ".py",
   "mimetype": "text/x-python",
   "name": "python",
   "nbconvert_exporter": "python",
   "pygments_lexer": "ipython3",
   "version": "3.9.13"
  }
 },
 "nbformat": 4,
 "nbformat_minor": 5
}
